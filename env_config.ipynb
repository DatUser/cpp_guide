{
 "cells": [
  {
   "cell_type": "markdown",
   "id": "54e2cd9c-96a0-4999-a990-b9485536bd14",
   "metadata": {},
   "source": [
    "# Activate Github Extension"
   ]
  },
  {
   "cell_type": "code",
   "execution_count": null,
   "id": "69547810-5644-4314-bbbe-439d51319637",
   "metadata": {},
   "outputs": [],
   "source": [
    "!jupyter server extension enable jupyterlab_github"
   ]
  },
  {
   "cell_type": "code",
   "execution_count": null,
   "id": "2a40c13c-947b-4df5-a481-c9f9a88ced3f",
   "metadata": {},
   "outputs": [],
   "source": [
    "!jupyter server extension list"
   ]
  },
  {
   "cell_type": "code",
   "execution_count": null,
   "id": "c62827d4-0890-4b11-b054-6e12b5b5989f",
   "metadata": {},
   "outputs": [],
   "source": [
    "!jupyter --paths"
   ]
  },
  {
   "cell_type": "code",
   "execution_count": null,
   "id": "8c443f2a-170b-4e3b-896d-45c7450119f7",
   "metadata": {},
   "outputs": [],
   "source": [
    "%env CONFIG_FILE=/home/jovyan/.jupyter/jupyter_server_config.py\n",
    "%env ACCESS_TOKEN="
   ]
  },
  {
   "cell_type": "code",
   "execution_count": 42,
   "id": "24dc8139-ef16-48b0-9eb9-f6ab62941359",
   "metadata": {},
   "outputs": [],
   "source": [
    "# Append github token to jupyter_hub server config file\n",
    "!echo -e c.GitHubConfig.access_token = $ACCESS_TOKEN >> $CONFIG_FILE"
   ]
  }
 ],
 "metadata": {
  "kernelspec": {
   "display_name": "Python 3 (ipykernel)",
   "language": "python",
   "name": "python3"
  },
  "language_info": {
   "codemirror_mode": {
    "name": "ipython",
    "version": 3
   },
   "file_extension": ".py",
   "mimetype": "text/x-python",
   "name": "python",
   "nbconvert_exporter": "python",
   "pygments_lexer": "ipython3",
   "version": "3.7.12"
  }
 },
 "nbformat": 4,
 "nbformat_minor": 5
}
