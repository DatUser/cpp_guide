{
 "cells": [
  {
   "cell_type": "markdown",
   "id": "54e2cd9c-96a0-4999-a990-b9485536bd14",
   "metadata": {
    "tags": []
   },
   "source": [
    "# Activate Github Extension"
   ]
  },
  {
   "cell_type": "code",
   "execution_count": null,
   "id": "802a24d9-b33c-4b9f-8dc4-99475f79cd31",
   "metadata": {},
   "outputs": [],
   "source": [
    "%%capture\n",
    "!pip install jupyterlab_github"
   ]
  },
  {
   "cell_type": "code",
   "execution_count": 8,
   "id": "69547810-5644-4314-bbbe-439d51319637",
   "metadata": {},
   "outputs": [
    {
     "name": "stdout",
     "output_type": "stream",
     "text": [
      "Enabling: jupyterlab_github\n",
      "- Writing config: /srv/conda/envs/notebook/etc/jupyter\n",
      "    - Validating jupyterlab_github...\n",
      "     \u001b[31m X\u001b[0m Validation failed: The module 'jupyterlab_github' could not be found (No module named 'jupyterlab_github'). Are you sure the extension is installed?\n"
     ]
    }
   ],
   "source": [
    "!jupyter server extension enable jupyterlab_github"
   ]
  },
  {
   "cell_type": "code",
   "execution_count": 9,
   "id": "2a40c13c-947b-4df5-a481-c9f9a88ced3f",
   "metadata": {},
   "outputs": [
    {
     "name": "stdout",
     "output_type": "stream",
     "text": [
      "Config dir: /home/jovyan/.jupyter\n",
      "\n",
      "Config dir: /srv/conda/envs/notebook/etc/jupyter\n",
      "    jupyter_resource_usage \u001b[32menabled\u001b[0m\n",
      "    - Validating jupyter_resource_usage...\n",
      "      jupyter_resource_usage 0.6.3 \u001b[32mOK\u001b[0m\n",
      "    jupyterlab \u001b[32menabled\u001b[0m\n",
      "    - Validating jupyterlab...\n",
      "      jupyterlab 3.4.8 \u001b[32mOK\u001b[0m\n",
      "    nbclassic \u001b[32menabled\u001b[0m\n",
      "    - Validating nbclassic...\n",
      "      nbclassic 0.4.8 \u001b[32mOK\u001b[0m\n",
      "    notebook_shim \u001b[32menabled\u001b[0m\n",
      "    - Validating notebook_shim...\n",
      "      notebook_shim  \u001b[32mOK\u001b[0m\n",
      "    jupyter_offlinenotebook \u001b[32menabled\u001b[0m\n",
      "    - Validating jupyter_offlinenotebook...\n",
      "      jupyter_offlinenotebook  \u001b[32mOK\u001b[0m\n",
      "\n",
      "Config dir: /usr/local/etc/jupyter\n",
      "\n"
     ]
    }
   ],
   "source": [
    "!jupyter server extension list"
   ]
  },
  {
   "cell_type": "code",
   "execution_count": 17,
   "id": "281008ff-d994-4ad4-92de-ecb5f3572b72",
   "metadata": {},
   "outputs": [
    {
     "name": "stdout",
     "output_type": "stream",
     "text": [
      "Writing default config to: /home/jovyan/.jupyter/jupyter_server_config.py\n"
     ]
    }
   ],
   "source": [
    "#Generate workspace\n",
    "!jupyter server --generate-config"
   ]
  },
  {
   "cell_type": "code",
   "execution_count": 11,
   "id": "c62827d4-0890-4b11-b054-6e12b5b5989f",
   "metadata": {},
   "outputs": [
    {
     "name": "stdout",
     "output_type": "stream",
     "text": [
      "config:\n",
      "    /home/jovyan/.jupyter\n",
      "    /home/jovyan/.local/etc/jupyter\n",
      "    /srv/conda/envs/notebook/etc/jupyter\n",
      "    /usr/local/etc/jupyter\n",
      "    /etc/jupyter\n",
      "data:\n",
      "    /home/jovyan/.local/share/jupyter\n",
      "    /srv/conda/envs/notebook/share/jupyter\n",
      "    /usr/local/share/jupyter\n",
      "    /usr/share/jupyter\n",
      "runtime:\n",
      "    /home/jovyan/.local/share/jupyter/runtime\n"
     ]
    }
   ],
   "source": [
    "!jupyter --paths"
   ]
  },
  {
   "cell_type": "code",
   "execution_count": 33,
   "id": "8c443f2a-170b-4e3b-896d-45c7450119f7",
   "metadata": {},
   "outputs": [],
   "source": [
    "%%capture\n",
    "%env CONFIG_FILE=/home/jovyan/.jupyter/jupyter_server_config.py\n",
    "%env ACCESS_TOKEN=''#Edit with your token"
   ]
  },
  {
   "cell_type": "code",
   "execution_count": 20,
   "id": "24dc8139-ef16-48b0-9eb9-f6ab62941359",
   "metadata": {},
   "outputs": [],
   "source": [
    "# Append github token to jupyter_hub server config file\n",
    "!echo -e c.GitHubConfig.access_token = $ACCESS_TOKEN >> $CONFIG_FILE"
   ]
  },
  {
   "cell_type": "markdown",
   "id": "f3b93526-2ad3-4a39-8805-31d51ddff162",
   "metadata": {
    "tags": []
   },
   "source": [
    "**Refresh the page**"
   ]
  }
 ],
 "metadata": {
  "kernelspec": {
   "display_name": "Python 3 (ipykernel)",
   "language": "python",
   "name": "python3"
  },
  "language_info": {
   "codemirror_mode": {
    "name": "ipython",
    "version": 3
   },
   "file_extension": ".py",
   "mimetype": "text/x-python",
   "name": "python",
   "nbconvert_exporter": "python",
   "pygments_lexer": "ipython3",
   "version": "3.7.12"
  }
 },
 "nbformat": 4,
 "nbformat_minor": 5
}
