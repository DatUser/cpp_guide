{
 "cells": [
  {
   "cell_type": "markdown",
   "id": "67367a80-ad0c-4b92-bb40-8e9e7349d711",
   "metadata": {},
   "source": [
    "# Guide for a better C++"
   ]
  },
  {
   "cell_type": "markdown",
   "id": "fb92a036-9c21-4284-8332-4ebb13eda4ed",
   "metadata": {},
   "source": [
    "## Todo\n",
    "\n",
    "- [x] Example with string\n",
    "- [x] Example with matrices\n",
    "- [x] Eager Evaluation\n",
    "- [x] Return value optimization\n",
    "- [x] Cost of virtual functions\n",
    "- [x] Virtualizing non member functions\n",
    "- [x] Requiring or prohibiting heap-based objects\n",
    "- [x] Multiple Dispatching\n",
    "- [x] Finish More Effective C++\n",
    "- [ ] Difference between const and constexpr with assmebler explanation\n",
    "- [ ] Check Combine C++ and C (for personnal purpose not for the guide)\n",
    "- [ ] Check C++17 specs\n",
    "- [ ] Check that all snippet of codes compile\n"
   ]
  },
  {
   "cell_type": "markdown",
   "id": "f22d6ff0-c9e8-44b0-9e8d-9a11e72144bd",
   "metadata": {},
   "source": [
    "**Includes**"
   ]
  },
  {
   "cell_type": "code",
   "execution_count": 1,
   "id": "4a73c567-415b-4675-9c26-6e22bc13f393",
   "metadata": {},
   "outputs": [],
   "source": [
    "#include <iostream>\n",
    "#include <map>\n",
    "#include <cstdlib>"
   ]
  },
  {
   "cell_type": "markdown",
   "id": "48e763e8-1073-409f-b0bf-0928b7c33ec1",
   "metadata": {
    "tags": []
   },
   "source": [
    "## Topics to deal with"
   ]
  },
  {
   "cell_type": "markdown",
   "id": "22dddb36-642a-41ec-8114-397fdf8ef9d3",
   "metadata": {
    "tags": []
   },
   "source": [
    "### C++ Tips"
   ]
  },
  {
   "cell_type": "markdown",
   "id": "ee43fc52-59b1-4f6c-84a1-91109e70098f",
   "metadata": {},
   "source": [
    "#### <ins>Lazy evaluation:</ins>\n",
    "\n",
    "**Principle: Do not evaluate an expression until the results is required.**\n",
    "\n",
    "This method might save computations whose results are not used.\n",
    "Here are 4 example of lazy evaluation application areas:\n",
    "\n",
    "- **Reference counting:** Count references to objects instead of always copying data.\n",
    "- **Distinguish Reads from Write:** When using reference counting, create new copie of data only when using *operator[]* to write.\n",
    "- **Lazy Fetching:** When dealing with large objects, read no data from object until a specific attribute is asked for Read/Write.\n",
    "- **Lazy Evaluation:** When making operations on structure, store the operation in a structure and defer computation until result is required."
   ]
  },
  {
   "cell_type": "markdown",
   "id": "9e9dff7a-969f-4ed1-9907-f5dad9c8895c",
   "metadata": {},
   "source": [
    "##### <ins>Example 1:</ins>"
   ]
  },
  {
   "cell_type": "code",
   "execution_count": 2,
   "id": "b72f0d0e-30ce-4942-be44-ab9173734141",
   "metadata": {},
   "outputs": [
    {
     "name": "stdout",
     "output_type": "stream",
     "text": [
      "Address of s1 data: 0x7f4bbce47040\n",
      "Address of s2 data: 0x7f4bbce47060\n"
     ]
    }
   ],
   "source": [
    "std::string s1 = \"Hello\";\n",
    "std::string s2 = s1; //Calls string copy ctor which performs an allocation \n",
    "                //then a strcopy to copy data\n",
    "                //(s1 and s2 have their own copy of the value)\n",
    "\n",
    "printf(\"Address of s1 data: %p\\n\", s1.data());\n",
    "printf(\"Address of s2 data: %p\\n\", s2.data());"
   ]
  },
  {
   "cell_type": "markdown",
   "id": "d8a8f767-dd1e-4afe-8460-4c617a37f3a0",
   "metadata": {},
   "source": [
    "This is how data is stored, however it is not needed to have data duplicated until s2 is modified.\n",
    "\n",
    "<div style=\"text-align:center\"><img src=\"https://i.imgur.com/zxaUBIm.png\" /></div>\n",
    "\n",
    "One method is to implement a struct nested in String that holds a *referenceCounter* and avoid data duplication until it is really needed.\n",
    "Here is a graphical representation of this model:\n",
    "\n",
    "\n",
    "<div style=\"text-align:center\"><img src=\"https://i.imgur.com/Ov7zKM4.png\" /></div>\n",
    "\n",
    "Snippet of code representing this model."
   ]
  },
  {
   "cell_type": "code",
   "execution_count": 3,
   "id": "69c91524-6128-4e79-ba06-e3b7d2273a9a",
   "metadata": {},
   "outputs": [],
   "source": [
    "class String\n",
    "{\n",
    "    public:\n",
    "        struct StringValue {\n",
    "            //Init data and strcopy initValue inside\n",
    "            //Set refCount to 1\n",
    "            StringValue(const char* initValue)\n",
    "            : m_pData(new char[strlen(initValue)]),\n",
    "              m_sRefCount(1)\n",
    "            {\n",
    "            }\n",
    "\n",
    "            //Delete data\n",
    "            ~StringValue() { delete[] m_pData; }\n",
    "\n",
    "            size_t m_sRefCount;\n",
    "            char* m_pData;        \n",
    "        };\n",
    "\n",
    "\n",
    "        String(const char* data=\"\")\n",
    "        : m_pValue(new StringValue(data))\n",
    "        {    \n",
    "        }\n",
    "\n",
    "        //Destroy StringValue\n",
    "        ~String()\n",
    "        {\n",
    "            delete m_pValue;\n",
    "        }\n",
    "\n",
    "        //Copy constructor => Do the same for operator=\n",
    "        String(const String& rhs)\n",
    "        {\n",
    "            std::cout << \"COPY CTOR\" << std::endl;\n",
    "            if (m_pValue == rhs.m_pValue)    return;\n",
    "\n",
    "            //By doing this, we postpone data duplication\n",
    "            // data evaluation consisting on: creating a new char[] and calling strcopy\n",
    "            if (m_pValue && --m_pValue->m_sRefCount == 0)    delete m_pValue;\n",
    "\n",
    "            m_pValue = rhs.m_pValue;\n",
    "            m_pValue->m_sRefCount++;\n",
    "        }\n",
    "\n",
    "        //Evaluation of duplication operation\n",
    "        void EvaluateDuplication()\n",
    "        {\n",
    "            //Decrease reference counter\n",
    "            m_pValue->m_sRefCount--;    \n",
    "\n",
    "            //Creates its own StringValue\n",
    "            m_pValue = new StringValue(m_pValue->m_pData);\n",
    "        }\n",
    "\n",
    "        //Writing operation: data duplication must be evaluated\n",
    "        void ToLowerCase()\n",
    "        {\n",
    "            if (m_pValue->m_sRefCount > 1)\n",
    "                EvaluateDuplication();\n",
    "\n",
    "            //... LowerCase operation\n",
    "        }\n",
    "\n",
    "        StringValue* m_pValue;\n",
    "};"
   ]
  },
  {
   "cell_type": "code",
   "execution_count": 4,
   "id": "6d060d54-2ad8-4d17-b76e-5aef6d02f470",
   "metadata": {},
   "outputs": [
    {
     "name": "stdout",
     "output_type": "stream",
     "text": [
      "COPY CTOR\n",
      "Reference count of S1 Value: 2\n",
      "Address of S1 data: 0x555fac8af980\n",
      "Address of S2 data: 0x555fac8af980\n",
      "\n",
      "Performed modification on S2 !\n",
      "\n",
      "Reference count of S1 Value: 1\n",
      "Address of S2 data: 0x555faca47500\n"
     ]
    }
   ],
   "source": [
    "String S1(\"Hello\");\n",
    "String S2 = S1;\n",
    "\n",
    "//show data addr\n",
    "printf(\"Reference count of S1 Value: %zu\\n\", S1.m_pValue->m_sRefCount);\n",
    "printf(\"Address of S1 data: %p\\n\", S1.m_pValue->m_pData);\n",
    "printf(\"Address of S2 data: %p\\n\", S2.m_pValue->m_pData);\n",
    "\n",
    "//Here let's make a modification on S2\n",
    "S2.ToLowerCase();\n",
    "std::cout << \"\\nPerformed modification on S2 !\\n\\n\";\n",
    "\n",
    "//We can see its address is now different also ref count changed\n",
    "printf(\"Reference count of S1 Value: %zu\\n\", S1.m_pValue->m_sRefCount);\n",
    "printf(\"Address of S2 data: %p\\n\", S2.m_pValue->m_pData);"
   ]
  },
  {
   "cell_type": "markdown",
   "id": "643fc6f1-0f64-4106-8a0e-52967e14bbc7",
   "metadata": {},
   "source": [
    "##### <ins>Example 2:</ins>"
   ]
  },
  {
   "cell_type": "markdown",
   "id": "85286b74-9b59-435c-977d-01c890452a7d",
   "metadata": {},
   "source": [
    "Here is a class representing a 2D vector:"
   ]
  },
  {
   "cell_type": "code",
   "execution_count": 5,
   "id": "8d9ac645-bc96-4d89-9e4f-e3e01b92aa39",
   "metadata": {},
   "outputs": [],
   "source": [
    "struct Vec2\n",
    "{\n",
    "    float m_x;\n",
    "    float m_y;\n",
    "    \n",
    "    Vec2(float x, float y)\n",
    "    : m_x(x),\n",
    "      m_y(y)\n",
    "    {\n",
    "          std::cout << \"CTOR\" << std::endl;\n",
    "    }\n",
    "    \n",
    "    Vec2 operator+(const Vec2& rhs) const\n",
    "    {\n",
    "        std::cout << \"SUM\" << std::endl;\n",
    "        return Vec2(m_x + rhs.m_x, m_y + rhs.m_y);\n",
    "    }\n",
    "    \n",
    "    float dot(const Vec2& rhs)\n",
    "    {\n",
    "        std::cout << \"DOT\" << std::endl;\n",
    "        return m_x * rhs.m_x + m_y * rhs.m_y;\n",
    "    }\n",
    "};"
   ]
  },
  {
   "cell_type": "markdown",
   "id": "f753bf20-df1b-4bc6-b691-a40d0546a3ec",
   "metadata": {},
   "source": [
    "Now, let's considerate a function foo that sums two Vec2 and compute the dot product with a third Vec2."
   ]
  },
  {
   "cell_type": "code",
   "execution_count": 6,
   "id": "89cb1d17-5199-480f-8112-439d3d467adf",
   "metadata": {},
   "outputs": [
    {
     "name": "stdout",
     "output_type": "stream",
     "text": [
      "CTOR\n",
      "CTOR\n",
      "CTOR\n",
      "SUM\n",
      "CTOR\n",
      "DOT\n"
     ]
    }
   ],
   "source": [
    "Vec2 A(1,2);\n",
    "Vec2 B(3, 4);\n",
    "Vec2 C(2.0f, 3.0f);\n",
    "(A + B).dot(C);"
   ]
  },
  {
   "cell_type": "markdown",
   "id": "e0524e08-02a9-43a9-b1ec-3b7f67afb8a7",
   "metadata": {},
   "source": [
    "Using lazy evaluation, it is possible to save a call to Vec2 ctor&dtor because there is no need for Vec2::operator+ to be called."
   ]
  },
  {
   "cell_type": "code",
   "execution_count": 7,
   "id": "5ff1b753-dfbc-4481-ac51-c87f25b00d92",
   "metadata": {},
   "outputs": [],
   "source": [
    "//Create a structure that will hold sum operand and\n",
    "//compute result only if needed\n",
    "struct addVec2\n",
    "{\n",
    "    struct LazyVec2\n",
    "    {\n",
    "\n",
    "        float m_x;\n",
    "        float m_y;\n",
    "\n",
    "        LazyVec2(float x, float y)\n",
    "        : m_x(x),\n",
    "          m_y(y)\n",
    "        {\n",
    "              std::cout << \"CTOR\" << std::endl;\n",
    "        }\n",
    "\n",
    "        //Let's change Vec2::operator+\n",
    "        //Do not forget to change declaration\n",
    "        addVec2  operator+(const LazyVec2& rhs)\n",
    "        {\n",
    "            return addVec2(*this, rhs);\n",
    "        }\n",
    "\n",
    "        float dot(const LazyVec2& rhs)\n",
    "        {\n",
    "            std::cout << \"DOT\" << std::endl;\n",
    "            return m_x * rhs.m_x + m_y * rhs.m_y;\n",
    "        }\n",
    "    };\n",
    "\n",
    "\n",
    "    addVec2(const LazyVec2& lhs, const LazyVec2& rhs)\n",
    "    : a(lhs),\n",
    "      b(rhs)\n",
    "    {\n",
    "        std::cout << \"CTOR of holding struct\" << std::endl;\n",
    "    }\n",
    "\n",
    "    //Here we save Vec2 ctor/dtor call\n",
    "    float dot(const LazyVec2& v)\n",
    "    {\n",
    "        return a.dot(v) + b.dot(v);\n",
    "    }\n",
    "\n",
    "    //Evaluates sum \n",
    "    LazyVec2 Eval()\n",
    "    {\n",
    "        std::cout << \"SUM\" << std::endl;\n",
    "        return LazyVec2(a.m_x + b.m_x, a.m_y + b.m_y);\n",
    "    }\n",
    "\n",
    "    LazyVec2 a;\n",
    "    LazyVec2 b;\n",
    "};"
   ]
  },
  {
   "cell_type": "markdown",
   "id": "1fffa0a2-ff83-4966-83a7-2746309ac713",
   "metadata": {},
   "source": [
    "Notice that sum is not evaluated (since we do not need result to be computed) and no intermediate Vec2 is created to hold the result of the struct."
   ]
  },
  {
   "cell_type": "code",
   "execution_count": 8,
   "id": "43cea38c-b288-4922-a615-1b814a1649ce",
   "metadata": {},
   "outputs": [
    {
     "name": "stdout",
     "output_type": "stream",
     "text": [
      "CTOR\n",
      "CTOR\n",
      "CTOR\n",
      "CTOR of holding struct\n",
      "DOT\n",
      "DOT\n"
     ]
    }
   ],
   "source": [
    "addVec2::LazyVec2 A(1,2);\n",
    "addVec2::LazyVec2 B(3, 4);\n",
    "addVec2::LazyVec2 C(2.0f, 3.0f);\n",
    "(A + B).dot(C);"
   ]
  },
  {
   "cell_type": "markdown",
   "id": "f3ec7fa6-b233-48f9-ae17-5cca144a4994",
   "metadata": {},
   "source": [
    "#### <ins>Eager evaluation:</ins> "
   ]
  },
  {
   "cell_type": "markdown",
   "id": "647a4d1c-db5f-4712-bcbd-3207b1881f26",
   "metadata": {},
   "source": [
    "**Principle: Doing things before they are needed to minimize further computations.**\n",
    "\n",
    "When you expect computation to be resquested frequently, it is possible to reduce the cost requests by precomputing the results."
   ]
  },
  {
   "cell_type": "markdown",
   "id": "1ff0169e-6f55-4b85-8442-877f142a3f40",
   "metadata": {},
   "source": [
    "##### <ins>Example 1</ins>"
   ]
  },
  {
   "cell_type": "markdown",
   "id": "83404b6a-d559-4fae-9fe5-2be17e6cb14b",
   "metadata": {},
   "source": [
    "Let's consider a database containing information about clients and you expect many queries on clients age. It is possible to use local caching to store information about age and avoid querying the database all the time."
   ]
  },
  {
   "cell_type": "code",
   "execution_count": 9,
   "id": "0b690bf1-fa78-49c0-8105-f21d6f4bd138",
   "metadata": {},
   "outputs": [],
   "source": [
    "int getClientAge(const std::string& clientName)\n",
    "{\n",
    "    //Executed once\n",
    "    static std::map<std::string, int> mapAges;\n",
    "    \n",
    "    auto it = mapAges.find(clientName);\n",
    "    \n",
    "    //Data not contained in map\n",
    "    if (it == mapAges.end())\n",
    "    {\n",
    "        int age = std::rand() % 40 + 20;//Query database\n",
    "        \n",
    "        //Add queried data to local cache\n",
    "        mapAges[clientName] = age;\n",
    "        \n",
    "        std::cout << \"Caching \" + clientName + \" data !\" << std::endl;\n",
    "\n",
    "        return age;\n",
    "    }\n",
    "    //Queried data is already in local cache\n",
    "    //save a call to database\n",
    "    else\n",
    "        return it->second;\n",
    "    \n",
    "}"
   ]
  },
  {
   "cell_type": "code",
   "execution_count": 10,
   "id": "ee5d1fc5-7f7b-48a0-be19-947b208300bc",
   "metadata": {},
   "outputs": [
    {
     "name": "stdout",
     "output_type": "stream",
     "text": [
      "Caching Fedina data !\n",
      "47\n",
      "Caching Seb data !\n",
      "20\n",
      "Caching Max data !\n",
      "25\n",
      "Caching Théo data !\n",
      "41\n",
      "Caching Victor data !\n",
      "46\n",
      "Caching Xavier data !\n",
      "34\n",
      "Retrieving cached data.\n",
      "\n",
      "47\n",
      "20\n",
      "25\n",
      "41\n",
      "46\n",
      "34\n"
     ]
    }
   ],
   "source": [
    "std::cout << getClientAge(\"Fedina\") << std::endl;\n",
    "std::cout << getClientAge(\"Seb\") << std::endl;\n",
    "std::cout << getClientAge(\"Max\") << std::endl;\n",
    "std::cout << getClientAge(\"Théo\") << std::endl;\n",
    "std::cout << getClientAge(\"Victor\") << std::endl;\n",
    "std::cout << getClientAge(\"Xavier\") << std::endl;\n",
    "\n",
    "std::cout << \"\\nRetrieving cached data.\\n\\n\";\n",
    "\n",
    "std::cout << getClientAge(\"Fedina\") << std::endl;\n",
    "std::cout << getClientAge(\"Seb\") << std::endl;\n",
    "std::cout << getClientAge(\"Max\") << std::endl;\n",
    "std::cout << getClientAge(\"Théo\") << std::endl;\n",
    "std::cout << getClientAge(\"Victor\") << std::endl;\n",
    "std::cout << getClientAge(\"Xavier\") << std::endl;"
   ]
  },
  {
   "cell_type": "markdown",
   "id": "d54425b5-35a9-410e-a1cc-ad31e5947594",
   "metadata": {},
   "source": [
    "##### <ins>Example 2</ins>"
   ]
  },
  {
   "cell_type": "markdown",
   "id": "915b85de-ee40-4e5a-81d4-0c0615975f60",
   "metadata": {},
   "source": [
    "Suppose we have a *Vector* containing numeric data and we expect min, max to be asked frequently. It is better to precompute them when data is modified than having to compute them each time they are required."
   ]
  }
 ],
 "metadata": {
  "kernelspec": {
   "display_name": "C++17",
   "language": "C++17",
   "name": "xcpp17"
  },
  "language_info": {
   "codemirror_mode": "text/x-c++src",
   "file_extension": ".cpp",
   "mimetype": "text/x-c++src",
   "name": "c++",
   "version": "17"
  }
 },
 "nbformat": 4,
 "nbformat_minor": 5
}
