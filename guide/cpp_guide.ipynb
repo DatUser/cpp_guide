{
 "cells": [
  {
   "cell_type": "code",
   "execution_count": 1,
   "id": "b72f0d0e-30ce-4942-be44-ab9173734141",
   "metadata": {},
   "outputs": [],
   "source": [
    "#include <iostream>"
   ]
  },
  {
   "cell_type": "code",
   "execution_count": 2,
   "id": "5a56f7c9-1047-4794-9ac2-e7bae2e99b34",
   "metadata": {},
   "outputs": [
    {
     "name": "stdout",
     "output_type": "stream",
     "text": [
      "Test !\n"
     ]
    }
   ],
   "source": [
    "std::cout << \"Test !\" << std::endl;"
   ]
  },
  {
   "cell_type": "code",
   "execution_count": null,
   "id": "69c91524-6128-4e79-ba06-e3b7d2273a9a",
   "metadata": {},
   "outputs": [],
   "source": []
  }
 ],
 "metadata": {
  "kernelspec": {
   "display_name": "C++17",
   "language": "C++17",
   "name": "xcpp17"
  },
  "language_info": {
   "codemirror_mode": "text/x-c++src",
   "file_extension": ".cpp",
   "mimetype": "text/x-c++src",
   "name": "c++",
   "version": "17"
  }
 },
 "nbformat": 4,
 "nbformat_minor": 5
}
