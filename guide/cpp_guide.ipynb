{
 "cells": [
  {
   "cell_type": "markdown",
   "id": "67367a80-ad0c-4b92-bb40-8e9e7349d711",
   "metadata": {},
   "source": [
    "# Guide for a better C++"
   ]
  },
  {
   "cell_type": "markdown",
   "id": "fb92a036-9c21-4284-8332-4ebb13eda4ed",
   "metadata": {},
   "source": [
    "## Todo\n",
    "\n",
    "- [x] Example with string\n",
    "- [x] Example with matrices\n",
    "- [x] Eager Evaluation\n",
    "- [x] Return value optimization\n",
    "- [x] Cost of virtual functions\n",
    "- [x] Virtualizing non member functions\n",
    "- [x] Requiring or prohibiting heap-based objects\n",
    "- [x] Multiple Dispatching\n",
    "- [x] Finish More Effective C++\n",
    "- [ ] Difference between const and constexpr with assmebler explanation\n",
    "- [ ] Check Combine C++ and C (for personnal purpose not for the guide)\n",
    "- [ ] Check C++17 specs\n",
    "- [ ] Check that all snippet of codes compile\n"
   ]
  },
  {
   "cell_type": "markdown",
   "id": "f22d6ff0-c9e8-44b0-9e8d-9a11e72144bd",
   "metadata": {},
   "source": [
    "**Includes**"
   ]
  },
  {
   "cell_type": "code",
   "execution_count": 1,
   "id": "4a73c567-415b-4675-9c26-6e22bc13f393",
   "metadata": {},
   "outputs": [],
   "source": [
    "#include <iostream>"
   ]
  },
  {
   "cell_type": "markdown",
   "id": "48e763e8-1073-409f-b0bf-0928b7c33ec1",
   "metadata": {
    "tags": []
   },
   "source": [
    "## Topics to deal with"
   ]
  },
  {
   "cell_type": "markdown",
   "id": "22dddb36-642a-41ec-8114-397fdf8ef9d3",
   "metadata": {
    "tags": []
   },
   "source": [
    "### C++ Tips"
   ]
  },
  {
   "cell_type": "markdown",
   "id": "ee43fc52-59b1-4f6c-84a1-91109e70098f",
   "metadata": {},
   "source": [
    "#### <ins>Lazy evaluation:</ins>\n",
    "\n",
    "**Principle: Do not evaluate an expression until the results is required.**\n",
    "\n",
    "This method might save computations whose results are not used.\n",
    "Here are 4 example of lazy evaluation application areas:\n",
    "\n",
    "- **Reference counting:** Count references to objects instead of always copying data.\n",
    "- **Distinguish Reads from Write:** When using reference counting, create new copie of data only when using *operator[]* to write.\n",
    "- **Lazy Fetching:** When dealing with large objects, read no data from object until a specific attribute is asked for Read/Write.\n",
    "- **Lazy Evaluation:** When making operations on structure, store the operation in a structure and defer computation until result is required."
   ]
  },
  {
   "cell_type": "markdown",
   "id": "9e9dff7a-969f-4ed1-9907-f5dad9c8895c",
   "metadata": {},
   "source": [
    "##### <ins>Example 1:</ins>"
   ]
  },
  {
   "cell_type": "code",
   "execution_count": 2,
   "id": "b72f0d0e-30ce-4942-be44-ab9173734141",
   "metadata": {},
   "outputs": [
    {
     "name": "stdout",
     "output_type": "stream",
     "text": [
      "Address of s1 data: 0x7f6be8ab4040\n",
      "Address of s2 data: 0x7f6be8ab4060\n"
     ]
    }
   ],
   "source": [
    "std::string s1 = \"Hello\";\n",
    "std::string s2 = s1; //Calls string copy ctor which performs an allocation \n",
    "                //then a strcopy to copy data\n",
    "                //(s1 and s2 have their own copy of the value)\n",
    "\n",
    "printf(\"Address of s1 data: %p\\n\", s1.data());\n",
    "printf(\"Address of s2 data: %p\\n\", s2.data());"
   ]
  },
  {
   "cell_type": "markdown",
   "id": "d8a8f767-dd1e-4afe-8460-4c617a37f3a0",
   "metadata": {},
   "source": [
    "This is how data is stored, however it is not needed to have data duplicated until s2 is modified.\n",
    "\n",
    "<div style=\"text-align:center\"><img src=\"https://i.imgur.com/zxaUBIm.png\" /></div>\n",
    "\n",
    "One method is to implement a struct nested in String that holds a *referenceCounter* and avoid data duplication until it is really needed.\n",
    "Here is a graphical representation of this model:\n",
    "\n",
    "\n",
    "<div style=\"text-align:center\"><img src=\"https://i.imgur.com/Ov7zKM4.png\" /></div>\n",
    "\n",
    "Snippet of code representing this model."
   ]
  },
  {
   "cell_type": "code",
   "execution_count": 3,
   "id": "69c91524-6128-4e79-ba06-e3b7d2273a9a",
   "metadata": {},
   "outputs": [],
   "source": [
    "class String\n",
    "{\n",
    "    public:\n",
    "        struct StringValue {\n",
    "            //Init data and strcopy initValue inside\n",
    "            //Set refCount to 1\n",
    "            StringValue(const char* initValue)\n",
    "            : m_pData(new char[strlen(initValue)]),\n",
    "              m_sRefCount(1)\n",
    "            {\n",
    "            }\n",
    "\n",
    "            //Delete data\n",
    "            ~StringValue() { delete[] m_pData; }\n",
    "\n",
    "            size_t m_sRefCount;\n",
    "            char* m_pData;        \n",
    "        };\n",
    "\n",
    "\n",
    "        String(const char* data=\"\")\n",
    "        : m_pValue(new StringValue(data))\n",
    "        {    \n",
    "        }\n",
    "\n",
    "        //Destroy StringValue\n",
    "        ~String()\n",
    "        {\n",
    "            delete m_pValue;\n",
    "        }\n",
    "\n",
    "        //Copy constructor => Do the same for operator=\n",
    "        String(const String& rhs)\n",
    "        {\n",
    "            std::cout << \"COPY CTOR\" << std::endl;\n",
    "            if (m_pValue == rhs.m_pValue)    return;\n",
    "\n",
    "            //By doing this, we postpone data duplication\n",
    "            // data evaluation consisting on: creating a new char[] and calling strcopy\n",
    "            if (m_pValue && --m_pValue->m_sRefCount == 0)    delete m_pValue;\n",
    "\n",
    "            m_pValue = rhs.m_pValue;\n",
    "            m_pValue->m_sRefCount++;\n",
    "        }\n",
    "\n",
    "        //Evaluation of duplication operation\n",
    "        void EvaluateDuplication()\n",
    "        {\n",
    "            //Decrease reference counter\n",
    "            m_pValue->m_sRefCount--;    \n",
    "\n",
    "            //Creates its own StringValue\n",
    "            m_pValue = new StringValue(m_pValue->m_pData);\n",
    "        }\n",
    "\n",
    "        //Writing operation: data duplication must be evaluated\n",
    "        void ToLowerCase()\n",
    "        {\n",
    "            if (m_pValue->m_sRefCount > 1)\n",
    "                EvaluateDuplication();\n",
    "\n",
    "            //... LowerCase operation\n",
    "        }\n",
    "\n",
    "        StringValue* m_pValue;\n",
    "};"
   ]
  },
  {
   "cell_type": "code",
   "execution_count": 9,
   "id": "6d060d54-2ad8-4d17-b76e-5aef6d02f470",
   "metadata": {},
   "outputs": [
    {
     "name": "stdout",
     "output_type": "stream",
     "text": [
      "COPY CTOR\n",
      "Reference count of S1 Value: 2\n",
      "Address of S1 data: 0x55defe434ed0\n",
      "Address of S2 data: 0x55defe434ed0\n",
      "\n",
      "Performed modification on S2 !\n",
      "\n",
      "Reference count of S1 Value: 1\n",
      "Address of S2 data: 0x55defe42ad10\n"
     ]
    }
   ],
   "source": [
    "String S1(\"Hello\");\n",
    "String S2 = S1;\n",
    "\n",
    "//show data addr\n",
    "printf(\"Reference count of S1 Value: %zu\\n\", S1.m_pValue->m_sRefCount);\n",
    "printf(\"Address of S1 data: %p\\n\", S1.m_pValue->m_pData);\n",
    "printf(\"Address of S2 data: %p\\n\", S2.m_pValue->m_pData);\n",
    "\n",
    "//Here let's make a modification on S2\n",
    "S2.ToLowerCase();\n",
    "std::cout << \"\\nPerformed modification on S2 !\\n\\n\";\n",
    "\n",
    "//We can see its address is now different also ref count changed\n",
    "printf(\"Reference count of S1 Value: %zu\\n\", S1.m_pValue->m_sRefCount);\n",
    "printf(\"Address of S2 data: %p\\n\", S2.m_pValue->m_pData);"
   ]
  },
  {
   "cell_type": "markdown",
   "id": "643fc6f1-0f64-4106-8a0e-52967e14bbc7",
   "metadata": {},
   "source": [
    "##### <ins>Example 2:</ins>"
   ]
  },
  {
   "cell_type": "markdown",
   "id": "85286b74-9b59-435c-977d-01c890452a7d",
   "metadata": {},
   "source": [
    "Here is a class representing a 2D vector:"
   ]
  },
  {
   "cell_type": "code",
   "execution_count": 15,
   "id": "8d9ac645-bc96-4d89-9e4f-e3e01b92aa39",
   "metadata": {},
   "outputs": [],
   "source": [
    "struct Vec2\n",
    "{\n",
    "    float m_x;\n",
    "    float m_y;\n",
    "    \n",
    "    Vec2(float x, float y)\n",
    "    : m_x(x),\n",
    "      m_y(y)\n",
    "    {}\n",
    "    \n",
    "    Vec2 operator+(const Vec2& rhs) const\n",
    "    {\n",
    "        return Vec2(m_x + rhs.m_x, m_y + rhs.m_y);\n",
    "    }\n",
    "    \n",
    "    float dot(const Vec2& rhs)\n",
    "    {\n",
    "        return m_x * rhs.m_x + m_y * rhs.m_y;\n",
    "    }\n",
    "};"
   ]
  },
  {
   "cell_type": "markdown",
   "id": "f753bf20-df1b-4bc6-b691-a40d0546a3ec",
   "metadata": {},
   "source": [
    "Now, let's considerate a function foo that sums two Vec2 and compute the dot product with a third Vec2."
   ]
  },
  {
   "cell_type": "code",
   "execution_count": 16,
   "id": "3b30ace0-f83c-4430-9737-0d881ccb04fb",
   "metadata": {},
   "outputs": [],
   "source": [
    "float foo(const Vec2& A, const Vec2& B)\n",
    "{\n",
    "    Vec2 C(2.0f, 3.0f);\n",
    "\n",
    "    //Here is called the ctor of vec2 to build a Vec2 and\n",
    "    //the result of A + B is copied, however this freshly\n",
    "    //created Vec2 is destroied at the end of this call\n",
    "    return (A + B).dot(C);\n",
    "}"
   ]
  },
  {
   "cell_type": "markdown",
   "id": "e0524e08-02a9-43a9-b1ec-3b7f67afb8a7",
   "metadata": {},
   "source": [
    "Using lazy evaluation, it is possible to save a call to Vec2 ctor&dtor because there is no need for Vec2::operator+ to be called."
   ]
  },
  {
   "cell_type": "code",
   "execution_count": null,
   "id": "89cb1d17-5199-480f-8112-439d3d467adf",
   "metadata": {},
   "outputs": [],
   "source": []
  }
 ],
 "metadata": {
  "kernelspec": {
   "display_name": "C++17",
   "language": "C++17",
   "name": "xcpp17"
  },
  "language_info": {
   "codemirror_mode": "text/x-c++src",
   "file_extension": ".cpp",
   "mimetype": "text/x-c++src",
   "name": "c++",
   "version": "17"
  }
 },
 "nbformat": 4,
 "nbformat_minor": 5
}
