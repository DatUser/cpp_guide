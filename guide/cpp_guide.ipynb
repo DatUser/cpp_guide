{
 "cells": [
  {
   "cell_type": "markdown",
   "id": "67367a80-ad0c-4b92-bb40-8e9e7349d711",
   "metadata": {},
   "source": [
    "# Guide for a better C++"
   ]
  },
  {
   "cell_type": "markdown",
   "id": "fb92a036-9c21-4284-8332-4ebb13eda4ed",
   "metadata": {},
   "source": [
    "## Todo\n",
    "\n",
    "- [x] Example with string\n",
    "- [x] Example with matrices\n",
    "- [x] Eager Evaluation\n",
    "- [x] Return value optimization\n",
    "- [x] Cost of virtual functions\n",
    "- [x] Virtualizing non member functions\n",
    "- [x] Requiring or prohibiting heap-based objects\n",
    "- [x] Multiple Dispatching\n",
    "- [x] Finish More Effective C++\n",
    "- [ ] Difference between const and constexpr with assmebler explanation\n",
    "- [ ] Check Combine C++ and C (for personnal purpose not for the guide)\n",
    "- [ ] Check C++17 specs\n",
    "- [ ] Check that all snippet of codes compile\n"
   ]
  },
  {
   "cell_type": "markdown",
   "id": "48e763e8-1073-409f-b0bf-0928b7c33ec1",
   "metadata": {
    "tags": []
   },
   "source": [
    "## Topics to deal with"
   ]
  },
  {
   "cell_type": "markdown",
   "id": "22dddb36-642a-41ec-8114-397fdf8ef9d3",
   "metadata": {
    "tags": []
   },
   "source": [
    "### C++ Tips"
   ]
  },
  {
   "cell_type": "markdown",
   "id": "ee43fc52-59b1-4f6c-84a1-91109e70098f",
   "metadata": {},
   "source": [
    "#### <ins>Lazy evaluation:</ins>\n",
    "\n",
    "**Principle: Do not evaluate an expression until the results is required.**\n",
    "\n",
    "This method might save computations whose results are not used.\n",
    "Here are 4 example of lazy evaluation application areas:\n",
    "\n",
    "- **Reference counting:** Count references to objects instead of always copying data.\n",
    "- **Distinguish Reads from Write:** When using reference counting, create new copie of data only when using *operator[]* to write.\n",
    "- **Lazy Fetching:** When dealing with large objects, read no data from object until a specific attribute is asked for Read/Write.\n",
    "- **Lazy Evaluation:** When making operations on structure, store the operation in a structure and defer computation until result is required."
   ]
  },
  {
   "cell_type": "markdown",
   "id": "9e9dff7a-969f-4ed1-9907-f5dad9c8895c",
   "metadata": {},
   "source": [
    "##### <ins>Example 1:</ins>"
   ]
  },
  {
   "cell_type": "code",
   "execution_count": 9,
   "id": "b72f0d0e-30ce-4942-be44-ab9173734141",
   "metadata": {},
   "outputs": [
    {
     "name": "stdout",
     "output_type": "stream",
     "text": [
      "0x7f113d9ae0f8\n",
      "0x7f113d9ae118\n"
     ]
    }
   ],
   "source": [
    "std::string s1 = \"Hello\";\n",
    "std::string s2 = s1; //Calls string copy ctor which performs an allocation \n",
    "                //then a strcopy to copy data\n",
    "                //(s1 and s2 have their own copy of the value)\n",
    "\n",
    "printf(\"%p\\n\", s1.data());\n",
    "printf(\"%p\\n\", s2.data());"
   ]
  },
  {
   "cell_type": "markdown",
   "id": "d8a8f767-dd1e-4afe-8460-4c617a37f3a0",
   "metadata": {},
   "source": [
    "This is how data is stored, however it is not needed to have data duplicated until s2 is modified.\n",
    "\n",
    "<div style=\"text-align:center\"><img src=\"https://i.imgur.com/zxaUBIm.png\" /></div>\n",
    "\n",
    "One method is to implement a struct nested in String that holds a *referenceCounter* and avoid data duplication until it is really needed.\n",
    "Here is a graphical representation of this model:\n",
    "\n",
    "\n",
    "<div style=\"text-align:center\"><img src=\"https://i.imgur.com/Ov7zKM4.png\" /></div>\n",
    "\n",
    "Snippet of code representing this model."
   ]
  },
  {
   "cell_type": "code",
   "execution_count": 13,
   "id": "69c91524-6128-4e79-ba06-e3b7d2273a9a",
   "metadata": {},
   "outputs": [],
   "source": [
    "class String\n",
    "{\n",
    "    struct StringValue {\n",
    "        //Init data and strcopy initValue inside\n",
    "        //Set refCount to 1\n",
    "        StringValue(const char* initValue);\n",
    "        \n",
    "        //Delete data\n",
    "        ~StringValue();\n",
    "\n",
    "        size_t m_sRefCount;\n",
    "        char* m_pData;        \n",
    "    };\n",
    "    \n",
    "    \n",
    "    String(const char* data=\"\")\n",
    "    : m_pValue(new StringValue(data))\n",
    "    {    \n",
    "    }\n",
    "    \n",
    "    //Destroy StringValue\n",
    "    ~String()\n",
    "    {\n",
    "        delete m_pValue;\n",
    "    }\n",
    "    \n",
    "    //Copy constructor\n",
    "    String(const String& rhs)\n",
    "    {\n",
    "        if (m_pValue == rhs.m_pValue)    return *this;\n",
    "        \n",
    "        //By doing this, we postpone data duplication\n",
    "        // data evulation consisting on: creating a new char[] and calling strcopy\n",
    "        if (--m_pValue->m_sRefCount == 0)    delete m_pValue;\n",
    "        \n",
    "        m_pValue = rhs.m_pValue;\n",
    "        m_pValue->m_sRefCount++;\n",
    "        return *this;\n",
    "    }\n",
    "    \n",
    "    //Evaluation of duplication operation\n",
    "    void EvaluateDuplication()\n",
    "    {\n",
    "        //Decrease reference counter\n",
    "        m_pValue->m_sRefCount--;    \n",
    "        \n",
    "        //Creates its own StringValue\n",
    "        m_pValue = new StringValue(m_pValue->m_pData);\n",
    "    }\n",
    "    \n",
    "    //Writing operation: data duplication must be evaluated\n",
    "    void ToLowerCase()\n",
    "    {\n",
    "        if (m_pValue->m_sRefCount > 1)\n",
    "            EvaluateDuplication();\n",
    "            \n",
    "        //... LowerCase operation\n",
    "    }\n",
    "    \n",
    "    StringValue* m_pValue;\n",
    "};"
   ]
  },
  {
   "cell_type": "code",
   "execution_count": 14,
   "id": "6d060d54-2ad8-4d17-b76e-5aef6d02f470",
   "metadata": {},
   "outputs": [
    {
     "name": "stderr",
     "output_type": "stream",
     "text": [
      "\u001b[1minput_line_20:2:9: \u001b[0m\u001b[0;1;31merror: \u001b[0m\u001b[1mcalling a private constructor of class '__cling_N513::String'\u001b[0m\n",
      " String S1 = \"Hello\";\n",
      "\u001b[0;1;32m        ^\n",
      "\u001b[0m\u001b[1minput_line_19:15:5: \u001b[0m\u001b[0;1;30mnote: \u001b[0mimplicitly declared private here\u001b[0m\n",
      "    String(const char* data=\"\")\n",
      "\u001b[0;1;32m    ^\n",
      "\u001b[0m\u001b[1minput_line_20:2:14: \u001b[0m\u001b[0;1;31merror: \u001b[0m\u001b[1mtemporary of type '__cling_N513::String' has private destructor\u001b[0m\n",
      " String S1 = \"Hello\";\n",
      "\u001b[0;1;32m             ^\n",
      "\u001b[0m\u001b[1minput_line_19:21:5: \u001b[0m\u001b[0;1;30mnote: \u001b[0mimplicitly declared private here\u001b[0m\n",
      "    ~String()\n",
      "\u001b[0;1;32m    ^\n",
      "\u001b[0m\u001b[1minput_line_20:2:9: \u001b[0m\u001b[0;1;31merror: \u001b[0m\u001b[1mvariable of type '__cling_N513::String' has private destructor\u001b[0m\n",
      " String S1 = \"Hello\";\n",
      "\u001b[0;1;32m        ^\n",
      "\u001b[0m\u001b[1minput_line_19:21:5: \u001b[0m\u001b[0;1;30mnote: \u001b[0mimplicitly declared private here\u001b[0m\n",
      "    ~String()\n",
      "\u001b[0;1;32m    ^\n",
      "\u001b[0m\u001b[1minput_line_20:3:13: \u001b[0m\u001b[0;1;31merror: \u001b[0m\u001b[1mcalling a private constructor of class '__cling_N513::String'\u001b[0m\n",
      "String S2 = S1;\n",
      "\u001b[0;1;32m            ^\n",
      "\u001b[0m\u001b[1minput_line_19:27:5: \u001b[0m\u001b[0;1;30mnote: \u001b[0mimplicitly declared private here\u001b[0m\n",
      "    String(const String& rhs)\n",
      "\u001b[0;1;32m    ^\n",
      "\u001b[0m\u001b[1minput_line_20:3:8: \u001b[0m\u001b[0;1;31merror: \u001b[0m\u001b[1mvariable of type '__cling_N513::String' has private destructor\u001b[0m\n",
      "String S2 = S1;\n",
      "\u001b[0;1;32m       ^\n",
      "\u001b[0m\u001b[1minput_line_19:21:5: \u001b[0m\u001b[0;1;30mnote: \u001b[0mimplicitly declared private here\u001b[0m\n",
      "    ~String()\n",
      "\u001b[0;1;32m    ^\n",
      "\u001b[0m"
     ]
    },
    {
     "ename": "Interpreter Error",
     "evalue": "",
     "output_type": "error",
     "traceback": [
      "Interpreter Error: "
     ]
    }
   ],
   "source": [
    "String S1 = \"Hello\";\n",
    "String S2 = S1;\n",
    "\n",
    "//show data addr"
   ]
  },
  {
   "cell_type": "code",
   "execution_count": 9,
   "id": "981a145a-7f7c-43ba-b523-799250d3e6ad",
   "metadata": {},
   "outputs": [
    {
     "name": "stdout",
     "output_type": "stream",
     "text": [
      "Hello, I am a Test instance !\n"
     ]
    }
   ],
   "source": [
    "Test t;"
   ]
  },
  {
   "cell_type": "code",
   "execution_count": null,
   "id": "f66f7d60-1a25-4df2-b25c-6006624a5781",
   "metadata": {},
   "outputs": [],
   "source": []
  }
 ],
 "metadata": {
  "kernelspec": {
   "display_name": "C++17",
   "language": "C++17",
   "name": "xcpp17"
  },
  "language_info": {
   "codemirror_mode": "text/x-c++src",
   "file_extension": ".cpp",
   "mimetype": "text/x-c++src",
   "name": "c++",
   "version": "17"
  }
 },
 "nbformat": 4,
 "nbformat_minor": 5
}
